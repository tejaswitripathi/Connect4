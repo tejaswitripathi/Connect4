{
 "cells": [
  {
   "cell_type": "code",
   "execution_count": 1,
   "id": "808c4331",
   "metadata": {},
   "outputs": [
    {
     "name": "stdout",
     "output_type": "stream",
     "text": [
      "\n",
      "Playing Minimax vs Random...\n",
      "\n",
      "Playing game 1/5\n",
      "  0   1   2   3   4   5   6\n",
      "0 ⚪ ⚪ ⚪ ⚪ ⚪ ⚪ ⚪\n",
      "1 ⚪ ⚪ ⚪ ⚪ ⬛ ⚪ ⚪\n",
      "2 ⚪ ⚪ ⬛ ⚪ ⬛ ⚪ ⚪\n",
      "3 ⚪ ⬛ ⚪ ⚪ ⬛ ⚪ ⚪\n",
      "4 ⚪ ⚪ ⚪ ⚪ ⚪ ⚪ ⚪\n",
      "5 ⚪ ⚪ ⚪ ⚪ ⚪ ⚪ ⚪\n",
      "\n",
      "  0   1   2   3   4   5   6\n",
      "0 ⚪ ⚪ ⚪ ⚪ ⚪ ⚪ ⚪\n",
      "1 ⚪ ⚪ ⚪ ⚪ ⬛ ⚪ ⚪\n",
      "2 ⚪ ⚪ ⬛ ⚪ ⬛ ⚪ ⚪\n",
      "3 ⚪ ⬛ ⚪ ⚪ ⬛ ⚪ ⚪\n",
      "4 ⚪ ⚪ ⚪ ⚪ ⚪ ⚪ ⚪\n",
      "5 ⚪ ⚪ ⚪ 🟡 ⚪ ⚪ ⚪\n",
      "\n"
     ]
    },
    {
     "ename": "TypeError",
     "evalue": "Connect4Bot.get_move() missing 1 required positional argument: 'current_player'",
     "output_type": "error",
     "traceback": [
      "\u001b[1;31m---------------------------------------------------------------------------\u001b[0m",
      "\u001b[1;31mTypeError\u001b[0m                                 Traceback (most recent call last)",
      "File \u001b[1;32m~\\Documents\\GitHub\\Connect4\\compare_agents.py:92\u001b[0m\n\u001b[0;32m     89\u001b[0m     \u001b[38;5;28;01mmatch\u001b[39;00m\u001b[38;5;241m.\u001b[39mprint_results()\n\u001b[0;32m     91\u001b[0m \u001b[38;5;28;01mif\u001b[39;00m \u001b[38;5;18m__name__\u001b[39m \u001b[38;5;241m==\u001b[39m \u001b[38;5;124m\"\u001b[39m\u001b[38;5;124m__main__\u001b[39m\u001b[38;5;124m\"\u001b[39m:\n\u001b[1;32m---> 92\u001b[0m     \u001b[43mmain\u001b[49m\u001b[43m(\u001b[49m\u001b[43m)\u001b[49m \n",
      "File \u001b[1;32m~\\Documents\\GitHub\\Connect4\\compare_agents.py:88\u001b[0m, in \u001b[0;36mmain\u001b[1;34m()\u001b[0m\n\u001b[0;32m     86\u001b[0m match \u001b[38;5;241m=\u001b[39m AgentMatch(\u001b[38;5;124m\"\u001b[39m\u001b[38;5;124mMinimax\u001b[39m\u001b[38;5;124m\"\u001b[39m, minimax_bot, \u001b[38;5;124m\"\u001b[39m\u001b[38;5;124mRandom\u001b[39m\u001b[38;5;124m\"\u001b[39m, random_bot)\n\u001b[0;32m     87\u001b[0m \u001b[38;5;28mprint\u001b[39m(\u001b[38;5;124m\"\u001b[39m\u001b[38;5;130;01m\\n\u001b[39;00m\u001b[38;5;124mPlaying Minimax vs Random...\u001b[39m\u001b[38;5;124m\"\u001b[39m)\n\u001b[1;32m---> 88\u001b[0m \u001b[38;5;28;43;01mmatch\u001b[39;49;00m\u001b[38;5;241;43m.\u001b[39;49m\u001b[43mplay_matches\u001b[49m\u001b[43m(\u001b[49m\u001b[38;5;241;43m5\u001b[39;49m\u001b[43m)\u001b[49m  \u001b[38;5;66;03m# Play 5 games\u001b[39;00m\n\u001b[0;32m     89\u001b[0m \u001b[38;5;28;01mmatch\u001b[39;00m\u001b[38;5;241m.\u001b[39mprint_results()\n",
      "File \u001b[1;32m~\\Documents\\GitHub\\Connect4\\compare_agents.py:54\u001b[0m, in \u001b[0;36mAgentMatch.play_matches\u001b[1;34m(self, num_matches)\u001b[0m\n\u001b[0;32m     52\u001b[0m \u001b[38;5;28;01mfor\u001b[39;00m game \u001b[38;5;129;01min\u001b[39;00m \u001b[38;5;28mrange\u001b[39m(num_matches):\n\u001b[0;32m     53\u001b[0m     \u001b[38;5;28mprint\u001b[39m(\u001b[38;5;124mf\u001b[39m\u001b[38;5;124m\"\u001b[39m\u001b[38;5;130;01m\\n\u001b[39;00m\u001b[38;5;124mPlaying game \u001b[39m\u001b[38;5;132;01m{\u001b[39;00mgame\u001b[38;5;250m \u001b[39m\u001b[38;5;241m+\u001b[39m\u001b[38;5;250m \u001b[39m\u001b[38;5;241m1\u001b[39m\u001b[38;5;132;01m}\u001b[39;00m\u001b[38;5;124m/\u001b[39m\u001b[38;5;132;01m{\u001b[39;00mnum_matches\u001b[38;5;132;01m}\u001b[39;00m\u001b[38;5;124m\"\u001b[39m)\n\u001b[1;32m---> 54\u001b[0m     winner, agent1_time, agent2_time \u001b[38;5;241m=\u001b[39m \u001b[38;5;28;43mself\u001b[39;49m\u001b[38;5;241;43m.\u001b[39;49m\u001b[43mplay_game\u001b[49m\u001b[43m(\u001b[49m\u001b[43m)\u001b[49m\n\u001b[0;32m     56\u001b[0m     \u001b[38;5;28;01mif\u001b[39;00m winner \u001b[38;5;241m==\u001b[39m \u001b[38;5;241m1\u001b[39m:\n\u001b[0;32m     57\u001b[0m         \u001b[38;5;28mself\u001b[39m\u001b[38;5;241m.\u001b[39magent1_wins \u001b[38;5;241m+\u001b[39m\u001b[38;5;241m=\u001b[39m \u001b[38;5;241m1\u001b[39m\n",
      "File \u001b[1;32m~\\Documents\\GitHub\\Connect4\\compare_agents.py:35\u001b[0m, in \u001b[0;36mAgentMatch.play_game\u001b[1;34m(self)\u001b[0m\n\u001b[0;32m     33\u001b[0m     agent1_time \u001b[38;5;241m+\u001b[39m\u001b[38;5;241m=\u001b[39m time\u001b[38;5;241m.\u001b[39mtime() \u001b[38;5;241m-\u001b[39m start_time\n\u001b[0;32m     34\u001b[0m \u001b[38;5;28;01melse\u001b[39;00m:\n\u001b[1;32m---> 35\u001b[0m     move \u001b[38;5;241m=\u001b[39m \u001b[38;5;28;43mself\u001b[39;49m\u001b[38;5;241;43m.\u001b[39;49m\u001b[43magent2\u001b[49m\u001b[38;5;241;43m.\u001b[39;49m\u001b[43mget_move\u001b[49m\u001b[43m(\u001b[49m\u001b[43menv\u001b[49m\u001b[43m,\u001b[49m\u001b[43m \u001b[49m\u001b[43mcurrent_player\u001b[49m\u001b[43m)\u001b[49m\n\u001b[0;32m     36\u001b[0m     agent2_time \u001b[38;5;241m+\u001b[39m\u001b[38;5;241m=\u001b[39m time\u001b[38;5;241m.\u001b[39mtime() \u001b[38;5;241m-\u001b[39m start_time\n\u001b[0;32m     38\u001b[0m \u001b[38;5;28;01mif\u001b[39;00m move \u001b[38;5;241m==\u001b[39m \u001b[38;5;241m-\u001b[39m\u001b[38;5;241m1\u001b[39m:  \u001b[38;5;66;03m# Invalid move\u001b[39;00m\n",
      "File \u001b[1;32m~\\Documents\\GitHub\\Connect4\\connect4_agents.py:9\u001b[0m, in \u001b[0;36mRandomAgent.get_move\u001b[1;34m(self, env, current_player)\u001b[0m\n\u001b[0;32m      7\u001b[0m \u001b[38;5;28;01mdef\u001b[39;00m \u001b[38;5;21mget_move\u001b[39m(\u001b[38;5;28mself\u001b[39m, env: Connect4Env, current_player: \u001b[38;5;28mint\u001b[39m) \u001b[38;5;241m-\u001b[39m\u001b[38;5;241m>\u001b[39m \u001b[38;5;28mint\u001b[39m:\n\u001b[0;32m      8\u001b[0m \u001b[38;5;250m    \u001b[39m\u001b[38;5;124;03m\"\"\"Pick a random valid move.\"\"\"\u001b[39;00m\n\u001b[1;32m----> 9\u001b[0m     valid_moves \u001b[38;5;241m=\u001b[39m \u001b[43mConnect4Bot\u001b[49m\u001b[38;5;241;43m.\u001b[39;49m\u001b[43mget_move\u001b[49m\u001b[43m(\u001b[49m\u001b[43menv\u001b[49m\u001b[43m,\u001b[49m\u001b[43m \u001b[49m\u001b[43mcurrent_player\u001b[49m\u001b[43m)\u001b[49m\n\u001b[0;32m     10\u001b[0m     \u001b[38;5;28;01mreturn\u001b[39;00m Connect4Bot\u001b[38;5;241m.\u001b[39m_minimax(env, depth\u001b[38;5;241m=\u001b[39m\u001b[38;5;241m4\u001b[39m, is_maximizing\u001b[38;5;241m=\u001b[39m\u001b[38;5;28;01mFalse\u001b[39;00m)\n",
      "\u001b[1;31mTypeError\u001b[0m: Connect4Bot.get_move() missing 1 required positional argument: 'current_player'"
     ]
    }
   ],
   "source": [
    "%run compare_agents.py"
   ]
  }
 ],
 "metadata": {
  "kernelspec": {
   "display_name": "Python 3",
   "language": "python",
   "name": "python3"
  },
  "language_info": {
   "codemirror_mode": {
    "name": "ipython",
    "version": 3
   },
   "file_extension": ".py",
   "mimetype": "text/x-python",
   "name": "python",
   "nbconvert_exporter": "python",
   "pygments_lexer": "ipython3",
   "version": "3.12.9"
  }
 },
 "nbformat": 4,
 "nbformat_minor": 5
}
